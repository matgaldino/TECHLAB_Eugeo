{
 "cells": [
  {
   "cell_type": "code",
   "execution_count": null,
   "metadata": {},
   "outputs": [],
   "source": [
    "import os\n",
    "from dotenv import load_dotenv\n",
    "\n",
    "load_dotenv()"
   ]
  },
  {
   "cell_type": "code",
   "execution_count": 16,
   "metadata": {},
   "outputs": [],
   "source": [
    "GROQ_API_KEY = os.getenv(\"GROQ_API_KEY\")"
   ]
  },
  {
   "cell_type": "markdown",
   "metadata": {},
   "source": [
    "### Escolher as funções disponíveis"
   ]
  },
  {
   "cell_type": "code",
   "execution_count": 45,
   "metadata": {},
   "outputs": [],
   "source": [
    "from typing import Literal\n",
    "\n",
    "from langchain_core.prompts import ChatPromptTemplate\n",
    "from langchain_core.pydantic_v1 import BaseModel, Field\n",
    "from langchain_groq import ChatGroq\n",
    "\n",
    "# Data model\n",
    "class RouteQuery(BaseModel):\n",
    "    \"\"\"Encaminhe uma consulta de usuário para o datasource mais relevante.\"\"\"\n",
    "\n",
    "    datasource: Literal[\"vectorstore\", \"websearch\", \"agendamento\"] = Field(\n",
    "        ...,\n",
    "        description=\"Dada uma pergunta do usuário, escolha encaminhá-la para websearch, vectorstore ou agendamento.\",\n",
    "    )\n",
    "\n",
    "# LLM with function call\n",
    "llm = ChatGroq(\n",
    "    temperature=0,\n",
    "    model=\"llama3-70b-8192\",\n",
    ")\n",
    "structured_llm_router = llm.with_structured_output(RouteQuery)\n",
    "\n",
    "# Prompt \n",
    "system = \"\"\"Você trabalha na Tech4.ai e é um especialista em encaminhar uma pergunta do usuário para um vectorstore, pesquisa na web ou agendamento de reunião.\n",
    "O vectorstore contém documentos relacionados a perguntas comuns apenas sobre a empresa (Tech4.ai), tais como missão, visão, valores, cultura, programas internos, políticas\n",
    "de trabalho remoto, horários, etc. Use o vectorstore para perguntas sobre esses tópicos.\n",
    "Para perguntas sobre as ferramentas Github, Vscode, Jira e discord use a pesquisa na web.\n",
    "Para perguntas sobre agendamento de reuniões use o agendamento.\"\"\"\n",
    "\n",
    "route_prompt = ChatPromptTemplate.from_messages(\n",
    "    [\n",
    "        (\"system\", system),\n",
    "        (\"human\", \"{question}\"),\n",
    "    ]\n",
    ")\n",
    "\n",
    "question_router = route_prompt | structured_llm_router"
   ]
  },
  {
   "cell_type": "code",
   "execution_count": 46,
   "metadata": {},
   "outputs": [
    {
     "name": "stdout",
     "output_type": "stream",
     "text": [
      "datasource='vectorstore'\n",
      "datasource='vectorstore'\n",
      "datasource='vectorstore'\n",
      "datasource='agendamento'\n",
      "datasource='agendamento'\n",
      "datasource='websearch'\n",
      "datasource='websearch'\n",
      "datasource='websearch'\n"
     ]
    }
   ],
   "source": [
    "print(question_router.invoke({\"question\": \"Qual a missão da Tech4.ai?\"}))\n",
    "print(question_router.invoke({\"question\": \"Quero saber os valores da empresa\"}))\n",
    "print(question_router.invoke({\"question\": \"Quero saber o que esperar de um dia de trabalho na Tech4.ai\"}))\n",
    "print(question_router.invoke({\"question\": \"gostaria de agendar uma reunião com o time de desenvolvimento\"}))\n",
    "print(question_router.invoke({\"question\": \"Como posso marcar uma reunião com o time de desenvolvimento?\"}))\n",
    "print(question_router.invoke({\"question\": \"Preciso de ajuda com o Github\"}))\n",
    "print(question_router.invoke({\"question\": \"Como posso usar o Vscode?\"}))\n",
    "print(question_router.invoke({\"question\": \"Como posso usar o Jira?\"}))"
   ]
  },
  {
   "cell_type": "markdown",
   "metadata": {},
   "source": [
    "### Vector Database"
   ]
  },
  {
   "cell_type": "code",
   "execution_count": 39,
   "metadata": {},
   "outputs": [],
   "source": [
    "from langchain.text_splitter import RecursiveCharacterTextSplitter\n",
    "from langchain_community.document_loaders import PyPDFLoader\n",
    "from langchain_community.vectorstores import Chroma\n",
    "from langchain_community.embeddings.sentence_transformer import (\n",
    "    SentenceTransformerEmbeddings,\n",
    ")\n",
    "from langchain_text_splitters import CharacterTextSplitter\n",
    "from langchain_huggingface import HuggingFaceEmbeddings\n",
    "\n",
    "\n",
    "# Load PDF document\n",
    "pdf_path = \"/home/matgaldino/TECHLAB/Base.pdf\"\n",
    "loader = PyPDFLoader(pdf_path)\n",
    "docs = loader.load()\n",
    "\n",
    "# Split the document into chunks\n",
    "text_splitter = CharacterTextSplitter(chunk_size=500, chunk_overlap=0)\n",
    "doc_splits = text_splitter.split_documents(docs)\n",
    "\n",
    "# Load an open-source embedding model from Hugging Face\n",
    "embedding_function = SentenceTransformerEmbeddings(model_name='sentence-transformers/paraphrase-multilingual-MiniLM-L12-v2')\n",
    "\n",
    "# Add to vector store\n",
    "vectorstore = Chroma.from_documents(\n",
    "    documents=doc_splits,\n",
    "    collection_name=\"Empresa\",\n",
    "    embedding=embedding_function,\n",
    ")\n",
    "retriever = vectorstore.as_retriever()"
   ]
  },
  {
   "cell_type": "code",
   "execution_count": 41,
   "metadata": {},
   "outputs": [],
   "source": [
    "from langchain_core.prompts import ChatPromptTemplate\n",
    "from langchain_core.pydantic_v1 import BaseModel, Field\n",
    " \n",
    "# Data model\n",
    "class GradeDocuments(BaseModel):\n",
    "    \"\"\"Pontuação binária para verificar a relevância nos documentos utilizados.\"\"\"\n",
    "\n",
    "    binary_score: str = Field(description=\"Documentos são relevantes para a pergunta, 'sim' or 'não'\")\n",
    "\n",
    "# LLM with function call \n",
    "structured_llm_grader_docs = llm.with_structured_output(GradeDocuments)\n",
    "\n",
    "# Prompt \n",
    "system = \"\"\"Você é um avaliador que avalia a relevância de um documento recuperado para uma pergunta do usuário.\n",
    " Se o documento contiver palavra(s)-chave ou significado semântico relacionado à pergunta, classifique-o como relevante. \n",
    " Dê uma pontuação binária \"sim\" ou \"não\" para indicar se o documento é relevante para a pergunta.\"\"\"\n",
    "\n",
    "grade_prompt = ChatPromptTemplate.from_messages(\n",
    "    [\n",
    "        (\"system\", system),\n",
    "        (\"human\", \"Retrieved document: \\n\\n {document} \\n\\n User question: {question}\"),\n",
    "    ]\n",
    ")\n",
    "\n",
    "retrieval_grader_relevance = grade_prompt | structured_llm_grader_docs"
   ]
  },
  {
   "cell_type": "code",
   "execution_count": 42,
   "metadata": {},
   "outputs": [],
   "source": [
    "from langchain_core.output_parsers import StrOutputParser\n",
    "\n",
    "# Prompt\n",
    "prompt = ChatPromptTemplate.from_template(\n",
    "    \"\"\"Você é um assistente para tarefas de resposta a perguntas. Use as seguintes partes do contexto recuperado para responder à pergunta.\n",
    "      Se você não souber a resposta, basta dizer que não sabe.\n",
    "Question: {question}\n",
    "Context: {context}\n",
    "Answer:\"\"\"\n",
    ")\n",
    " \n",
    "# Chain\n",
    "rag_chain = prompt | llm | StrOutputParser()"
   ]
  },
  {
   "cell_type": "code",
   "execution_count": 43,
   "metadata": {},
   "outputs": [
    {
     "name": "stdout",
     "output_type": "stream",
     "text": [
      "binary_score='sim'\n",
      "A governança faz uma abordagem proativa para a gestão de tecnologias em toda a organização, garantindo que todas as ferramentas corporativas sejam utilizadas de forma eficaz. Eles identificam oportunidades de melhoria nos processos internos, avaliam a satisfação dos funcionários em cada programa institucional e estão sempre prontos para resolver problemas e comunicar sugestões de aprimoramento para as partes interessadas. Além disso, eles trabalham de forma diligente para assegurar a aplicação dos requisitos das certificações, mantendo todos os documentos necessários atualizados e divulgando as responsabilidades internamente. Em resumo, eles são responsáveis por otimizar o ciclo de vida de desenvolvimento de software, garantindo que os processos sejam ágeis, seguros e eficientes.\n",
      "binary_score='não'\n",
      "The question is \"Qual a missão da Apple?\"\n",
      "\n",
      "However, the provided context does not mention Apple or its mission. The context appears to be related to a company called TECHLAB, discussing its teams, processes, and benefits.\n",
      "\n",
      "Therefore, I must say that I don't know the answer to this question based on the provided context.\n",
      "binary_score='sim'\n",
      "O time de IAG (Institucional Accountability Governance) é do círculo de Governança de TI e Segurança da informação.\n"
     ]
    }
   ],
   "source": [
    "question = \"O que a governança faz?\"\n",
    "docs = retriever.invoke(question)\n",
    "doc_txt = docs[1].page_content\n",
    "print(retrieval_grader_relevance.invoke({\"question\": question, \"document\": doc_txt}))\n",
    "# Run\n",
    "generation = rag_chain.invoke({\"context\": docs, \"question\": question})\n",
    "print(generation)\n",
    "question = \"Qual a missão da Apple?\"\n",
    "docs = retriever.invoke(question)\n",
    "doc_txt = docs[1].page_content\n",
    "print(retrieval_grader_relevance.invoke({\"question\": question, \"document\": doc_txt}))\n",
    "# Run\n",
    "generation = rag_chain.invoke({\"context\": docs, \"question\": question})\n",
    "print(generation)\n",
    "question = \"De qual circulo é o time de IAG?\"\n",
    "docs = retriever.invoke(question)\n",
    "doc_txt = docs[1].page_content\n",
    "print(retrieval_grader_relevance.invoke({\"question\": question, \"document\": doc_txt}))\n",
    "# Run\n",
    "generation = rag_chain.invoke({\"context\": docs, \"question\": question})\n",
    "print(generation)"
   ]
  },
  {
   "cell_type": "code",
   "execution_count": null,
   "metadata": {},
   "outputs": [],
   "source": [
    "question = \"Qual a missão da Tech4.ai?\"\n",
    "docs = retriever.invoke(question)\n",
    "doc_txt = docs[1].page_content\n",
    "print(retrieval_grader_relevance.invoke({\"question\": question, \"document\": doc_txt}))"
   ]
  }
 ],
 "metadata": {
  "kernelspec": {
   "display_name": "venv",
   "language": "python",
   "name": "python3"
  },
  "language_info": {
   "codemirror_mode": {
    "name": "ipython",
    "version": 3
   },
   "file_extension": ".py",
   "mimetype": "text/x-python",
   "name": "python",
   "nbconvert_exporter": "python",
   "pygments_lexer": "ipython3",
   "version": "3.10.12"
  }
 },
 "nbformat": 4,
 "nbformat_minor": 2
}
